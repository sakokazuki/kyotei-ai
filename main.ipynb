{
 "cells": [
  {
   "cell_type": "markdown",
   "id": "75aeb953-3017-4c45-bc3b-d3ab805be1af",
   "metadata": {},
   "source": [
    "# メイン2"
   ]
  },
  {
   "cell_type": "markdown",
   "id": "ff481319-847f-47d4-97cf-8bc1dba4062e",
   "metadata": {
    "tags": []
   },
   "source": [
    "## 昨日のレース結果を更新する"
   ]
  },
  {
   "cell_type": "code",
   "execution_count": 798,
   "id": "b73a671c-c930-4ec3-bdbf-3e8c254e5b43",
   "metadata": {},
   "outputs": [
    {
     "name": "stdout",
     "output_type": "stream",
     "text": [
      "download_race_data: テスト成功\n",
      "create_tables:テスト成功\n"
     ]
    }
   ],
   "source": [
    "# 最新のレース結果をダウンロードする\n",
    "import download_race_data as dl_race\n",
    "import importlib\n",
    "import datetime as dt\n",
    "importlib.reload(dl_race)\n",
    "\n",
    "# start_date = dt.datetime.strptime('2022-11-01', '%Y-%m-%d')\n",
    "start_date = dt.datetime.strptime('2023-01-01', '%Y-%m-%d')\n",
    "\n",
    "yesterday_date = dt.datetime.now() - dt.timedelta(1)\n",
    "dl_race.download_race_data(start_date, yesterday_date)\n",
    "\n",
    "# テストを実行\n",
    "dl_race.test()\n",
    "\n",
    "# テーブルを作成\n",
    "import create_tables\n",
    "importlib.reload(create_tables)\n",
    "\n",
    "data_tables = create_tables.DataTables.create_with_update() # need_update (最新のtxtを既存のpickleのテーブルをくっつける)\n",
    "# data_tables = create_tables.DataTables.create_with_all_update() # テーブル構造を変えたときや一番はじめはこっちを実行\n",
    "\n",
    "# テストを実行\n",
    "data_tables.test()\n"
   ]
  },
  {
   "cell_type": "code",
   "execution_count": 680,
   "id": "ecaab10d-f3c1-4a4c-9262-e435fb8665ac",
   "metadata": {},
   "outputs": [],
   "source": [
    "# テーブルを表示確認\n",
    "# data_tables.merged_t"
   ]
  },
  {
   "cell_type": "markdown",
   "id": "8e871d09-4067-4201-916f-4a0e4059ccfc",
   "metadata": {},
   "source": [
    "## ここからシミュレーションプログラム"
   ]
  },
  {
   "cell_type": "code",
   "execution_count": 714,
   "id": "a170b185-f842-4086-ad7a-86ee20815341",
   "metadata": {},
   "outputs": [],
   "source": [
    "import race_results as rr\n",
    "import return_table as rt\n",
    "import syusso_table as sy\n",
    "import model_evaluator as mev\n",
    "import importlib\n",
    "import create_tables\n",
    "import utils\n",
    "import racer_table as racer_t \n",
    "importlib.reload(rt)\n",
    "importlib.reload(create_tables)\n",
    "importlib.reload(rr)\n",
    "importlib.reload(rt)\n",
    "importlib.reload(sy)\n",
    "importlib.reload(mev)\n",
    "importlib.reload(utils)\n",
    "importlib.reload(racer_t)\n",
    "\n",
    "data_tables = create_tables.DataTables.create()\n",
    "\n",
    "race_results = rr.RaceResults(data_tables.merged_t)\n",
    "return_table = rt.ReturnTable(data_tables.return_t)\n",
    "\n",
    "race_d = race_results.generate_categorical()\n",
    "\n",
    "# 会場で絞ってみる \n",
    "race_d = utils.filter_stadium(race_d, 'OMR')"
   ]
  },
  {
   "cell_type": "code",
   "execution_count": 716,
   "id": "db354b67-ea7d-4ab8-b6bd-a4e2735259cc",
   "metadata": {},
   "outputs": [
    {
     "data": {
      "text/html": [
       "<style>#sk-container-id-4 {color: black;background-color: white;}#sk-container-id-4 pre{padding: 0;}#sk-container-id-4 div.sk-toggleable {background-color: white;}#sk-container-id-4 label.sk-toggleable__label {cursor: pointer;display: block;width: 100%;margin-bottom: 0;padding: 0.3em;box-sizing: border-box;text-align: center;}#sk-container-id-4 label.sk-toggleable__label-arrow:before {content: \"▸\";float: left;margin-right: 0.25em;color: #696969;}#sk-container-id-4 label.sk-toggleable__label-arrow:hover:before {color: black;}#sk-container-id-4 div.sk-estimator:hover label.sk-toggleable__label-arrow:before {color: black;}#sk-container-id-4 div.sk-toggleable__content {max-height: 0;max-width: 0;overflow: hidden;text-align: left;background-color: #f0f8ff;}#sk-container-id-4 div.sk-toggleable__content pre {margin: 0.2em;color: black;border-radius: 0.25em;background-color: #f0f8ff;}#sk-container-id-4 input.sk-toggleable__control:checked~div.sk-toggleable__content {max-height: 200px;max-width: 100%;overflow: auto;}#sk-container-id-4 input.sk-toggleable__control:checked~label.sk-toggleable__label-arrow:before {content: \"▾\";}#sk-container-id-4 div.sk-estimator input.sk-toggleable__control:checked~label.sk-toggleable__label {background-color: #d4ebff;}#sk-container-id-4 div.sk-label input.sk-toggleable__control:checked~label.sk-toggleable__label {background-color: #d4ebff;}#sk-container-id-4 input.sk-hidden--visually {border: 0;clip: rect(1px 1px 1px 1px);clip: rect(1px, 1px, 1px, 1px);height: 1px;margin: -1px;overflow: hidden;padding: 0;position: absolute;width: 1px;}#sk-container-id-4 div.sk-estimator {font-family: monospace;background-color: #f0f8ff;border: 1px dotted black;border-radius: 0.25em;box-sizing: border-box;margin-bottom: 0.5em;}#sk-container-id-4 div.sk-estimator:hover {background-color: #d4ebff;}#sk-container-id-4 div.sk-parallel-item::after {content: \"\";width: 100%;border-bottom: 1px solid gray;flex-grow: 1;}#sk-container-id-4 div.sk-label:hover label.sk-toggleable__label {background-color: #d4ebff;}#sk-container-id-4 div.sk-serial::before {content: \"\";position: absolute;border-left: 1px solid gray;box-sizing: border-box;top: 0;bottom: 0;left: 50%;z-index: 0;}#sk-container-id-4 div.sk-serial {display: flex;flex-direction: column;align-items: center;background-color: white;padding-right: 0.2em;padding-left: 0.2em;position: relative;}#sk-container-id-4 div.sk-item {position: relative;z-index: 1;}#sk-container-id-4 div.sk-parallel {display: flex;align-items: stretch;justify-content: center;background-color: white;position: relative;}#sk-container-id-4 div.sk-item::before, #sk-container-id-4 div.sk-parallel-item::before {content: \"\";position: absolute;border-left: 1px solid gray;box-sizing: border-box;top: 0;bottom: 0;left: 50%;z-index: -1;}#sk-container-id-4 div.sk-parallel-item {display: flex;flex-direction: column;z-index: 1;position: relative;background-color: white;}#sk-container-id-4 div.sk-parallel-item:first-child::after {align-self: flex-end;width: 50%;}#sk-container-id-4 div.sk-parallel-item:last-child::after {align-self: flex-start;width: 50%;}#sk-container-id-4 div.sk-parallel-item:only-child::after {width: 0;}#sk-container-id-4 div.sk-dashed-wrapped {border: 1px dashed gray;margin: 0 0.4em 0.5em 0.4em;box-sizing: border-box;padding-bottom: 0.4em;background-color: white;}#sk-container-id-4 div.sk-label label {font-family: monospace;font-weight: bold;display: inline-block;line-height: 1.2em;}#sk-container-id-4 div.sk-label-container {text-align: center;}#sk-container-id-4 div.sk-container {/* jupyter's `normalize.less` sets `[hidden] { display: none; }` but bootstrap.min.css set `[hidden] { display: none !important; }` so we also need the `!important` here to be able to override the default hidden behavior on the sphinx rendered scikit-learn.org. See: https://github.com/scikit-learn/scikit-learn/issues/21755 */display: inline-block !important;position: relative;}#sk-container-id-4 div.sk-text-repr-fallback {display: none;}</style><div id=\"sk-container-id-4\" class=\"sk-top-container\"><div class=\"sk-text-repr-fallback\"><pre>LGBMClassifier(class_weight=&#x27;balanced&#x27;, n_estimators=80, num_leaves=4,\n",
       "               random_state=100)</pre><b>In a Jupyter environment, please rerun this cell to show the HTML representation or trust the notebook. <br />On GitHub, the HTML representation is unable to render, please try loading this page with nbviewer.org.</b></div><div class=\"sk-container\" hidden><div class=\"sk-item\"><div class=\"sk-estimator sk-toggleable\"><input class=\"sk-toggleable__control sk-hidden--visually\" id=\"sk-estimator-id-4\" type=\"checkbox\" checked><label for=\"sk-estimator-id-4\" class=\"sk-toggleable__label sk-toggleable__label-arrow\">LGBMClassifier</label><div class=\"sk-toggleable__content\"><pre>LGBMClassifier(class_weight=&#x27;balanced&#x27;, n_estimators=80, num_leaves=4,\n",
       "               random_state=100)</pre></div></div></div></div></div>"
      ],
      "text/plain": [
       "LGBMClassifier(class_weight='balanced', n_estimators=80, num_leaves=4,\n",
       "               random_state=100)"
      ]
     },
     "execution_count": 716,
     "metadata": {},
     "output_type": "execute_result"
    }
   ],
   "source": [
    "import utils\n",
    "importlib.reload(utils)\n",
    "\n",
    "\n",
    "# レース結果を訓練データと予測データに分けてシミュレーション\n",
    "train, test = utils.split_data(race_d)\n",
    "\n",
    "# X_train = train.drop([\"rank\"], axis=1)\n",
    "# y_train = train[\"rank\"]\n",
    "# X_test = test.drop([\"rank\"], axis=1)\n",
    "# y_test = test[\"rank\"]\n",
    "X_train = train.drop([\"rank\", \"艇番\", \"日付\"], axis=1)\n",
    "y_train = train[\"rank\"]\n",
    "X_test = test.drop([\"rank\", \"艇番\", \"日付\"], axis=1)\n",
    "y_test = test[\"rank\"]\n",
    "\n",
    "#LightGBMによる予測モデル作成\n",
    "import lightgbm as lgb\n",
    "from sklearn.metrics import roc_auc_score\n",
    "\n",
    "params = {\n",
    "    \"num_leaves\": 4,\n",
    "    \"n_estimators\": 80,\n",
    "    \"class_weight\": \"balanced\",\n",
    "    \"random_state\": 100,\n",
    "}\n",
    "lgb_clf = lgb.LGBMClassifier(**params)\n",
    "lgb_clf.fit(X_train.values, y_train.values)\n",
    "\n",
    "# me_t.score(y_test, X_test)"
   ]
  },
  {
   "cell_type": "code",
   "execution_count": 717,
   "id": "e7b3b604-e803-4ef5-a035-6db5e29bff8d",
   "metadata": {},
   "outputs": [],
   "source": [
    "importlib.reload(mev)\n",
    "me_f= mev.ModelEvaluator(lgb_clf, return_table.data_p, std=False)\n",
    "me_t = mev.ModelEvaluator(lgb_clf, return_table.data_p, std=True)"
   ]
  },
  {
   "cell_type": "code",
   "execution_count": 686,
   "id": "653b5a08-a053-4478-8d13-29596e8d4b0d",
   "metadata": {},
   "outputs": [],
   "source": [
    "# predテーブルの表示\n",
    "# me_t.pred_table(X_test, test, 0.5, False)"
   ]
  },
  {
   "cell_type": "code",
   "execution_count": 737,
   "id": "b2e8d013-c721-4a0c-b999-526ac5d425af",
   "metadata": {},
   "outputs": [
    {
     "name": "stdout",
     "output_type": "stream",
     "text": [
      "20230106OMR01 直前情報リクエスト済みなのでスキップ\n",
      "20230106OMR02 直前情報リクエスト済みなのでスキップ\n",
      "20230106OMR03 直前情報リクエスト済みなのでスキップ\n",
      "20230106OMR04 直前情報リクエスト済みなのでスキップ\n",
      "20230106OMR05 直前情報リクエスト済みなのでスキップ\n",
      "20230106OMR06 直前情報リクエスト済みなのでスキップ\n",
      "20230106OMR07 直前情報リクエスト済みなのでスキップ\n",
      "20230106OMR08 直前情報リクエスト済みなのでスキップ\n",
      "20230106OMR09 直前情報リクエスト済みなのでスキップ\n",
      "20230106OMR10 直前情報リクエスト済みなのでスキップ\n",
      "20230106OMR11 直前情報リクエスト済みなのでスキップ\n",
      "20230106OMR12 直前情報リクエスト済みなのでスキップ\n",
      "レーサーの過去生成データテーブルの作成\n"
     ]
    },
    {
     "name": "stderr",
     "output_type": "stream",
     "text": [
      "100%|██████████████████████████████████████████████████████████████████████████████████| 42/42 [00:00<00:00, 45.51it/s]\n"
     ]
    },
    {
     "name": "stdout",
     "output_type": "stream",
     "text": [
      "syusso_table:テスト成功\n"
     ]
    }
   ],
   "source": [
    "# 実際のレースの出走テーブルの作成\n",
    "import syusso_table as sy\n",
    "importlib.reload(sy)\n",
    "syusso = sy.SyussoTable(race_results, '20230106', 'OMR')\n",
    "syusso.test()\n",
    "syusso_d = syusso.generate_categorical()"
   ]
  },
  {
   "cell_type": "code",
   "execution_count": 739,
   "id": "cea96aae-e9f1-44b6-b259-5e20fe95f3a7",
   "metadata": {},
   "outputs": [],
   "source": [
    "# 実際の出走テーブルを使って予測しpredテーブルを表示\n",
    "# me_t.pred_table(syusso_d.drop(['艇番'], axis=1), syusso_d, 0.7, False)"
   ]
  },
  {
   "cell_type": "code",
   "execution_count": 246,
   "id": "ea23a73d-557e-4bd4-855e-6ddeaf71f9b0",
   "metadata": {},
   "outputs": [],
   "source": [
    "# 行数省略用ユーティリティ\n",
    "# utils.begin_display_row_num()\n",
    "# utils.end_display_row_num()"
   ]
  },
  {
   "cell_type": "code",
   "execution_count": 795,
   "id": "0fe9cb5e-998e-428e-9e86-1b5c0f03f2df",
   "metadata": {},
   "outputs": [],
   "source": [
    "# フューチャーインポータんすの表示\n",
    "# me_t.feature_importance(X_test)"
   ]
  },
  {
   "cell_type": "code",
   "execution_count": 741,
   "id": "42e5168c-fe20-43f5-af61-f0d732d295ce",
   "metadata": {},
   "outputs": [
    {
     "name": "stdout",
     "output_type": "stream",
     "text": [
      "全データ数 660764\n",
      "平和島全データ数 28586\n",
      "テストデータ数 8577\n",
      "レース数 1451\n",
      "1レースに1舟券掛けたら買う枚数 241.83333333333334\n",
      "最低購入枚数 120.91666666666667\n"
     ]
    },
    {
     "name": "stderr",
     "output_type": "stream",
     "text": [
      "100%|████████████████████████████████████████████████████████████████████████████████| 100/100 [00:01<00:00, 67.72it/s]\n",
      "100%|████████████████████████████████████████████████████████████████████████████████| 100/100 [00:31<00:00,  3.16it/s]\n"
     ]
    }
   ],
   "source": [
    "# テストモデルのレース数 / 6船 = 1レースに1枚買った枚数\n",
    "# それに0.7(適当)掛けた枚数を最低購入数とする\n",
    "min_buy_num = len(X_test.index.unique())/6 * 0.5\n",
    "print(\"全データ数\", len(race_results.data_p))\n",
    "print(\"平和島全データ数\", len(race_d))\n",
    "print(\"テストデータ数\", len(X_test))\n",
    "print(\"レース数\", len(X_test.index.unique()))\n",
    "print(\"1レースに1舟券掛けたら買う枚数\", len(X_test.index.unique())/6)\n",
    "print(\"最低購入枚数\", min_buy_num)\n",
    "\n",
    "gain_f = mev.Gain(me_f, X_test, test, return_table.data_p, lower=min_buy_num, n_samples=100)\n",
    "gain_t = mev.Gain(me_t, X_test, test, return_table.data_p, lower=min_buy_num, n_samples=100)"
   ]
  },
  {
   "cell_type": "code",
   "execution_count": 744,
   "id": "97e5a003-2f46-4c14-941a-d873031ed312",
   "metadata": {},
   "outputs": [
    {
     "name": "stderr",
     "output_type": "stream",
     "text": [
      "100%|████████████████████████████████████████████████████████████████████████████████| 100/100 [00:05<00:00, 17.54it/s]\n",
      "100%|████████████████████████████████████████████████████████████████████████████████| 100/100 [00:05<00:00, 17.67it/s]\n",
      "100%|████████████████████████████████████████████████████████████████████████████████| 100/100 [00:06<00:00, 16.12it/s]\n",
      "100%|████████████████████████████████████████████████████████████████████████████████| 100/100 [00:06<00:00, 16.31it/s]\n",
      "100%|████████████████████████████████████████████████████████████████████████████████| 100/100 [01:10<00:00,  1.42it/s]\n"
     ]
    }
   ],
   "source": [
    "importlib.reload(mev)\n",
    "gain_f_tansho = gain_f.calc_return(mev.win_return)\n",
    "gain_f_fukusho = gain_f.calc_return(mev.place_return)\n",
    "gain_t_tansho = gain_t.calc_return(mev.win_return)\n",
    "gain_t_fukusho = gain_t.calc_return(mev.place_return)\n",
    "gain_t_exacta = gain_t.calc_return(mev.exacta_return)"
   ]
  },
  {
   "cell_type": "code",
   "execution_count": 745,
   "id": "3a065f71-ff7b-473b-93a3-7c422b3d9a05",
   "metadata": {},
   "outputs": [
    {
     "data": {
      "text/plain": [
       "<AxesSubplot: >"
      ]
     },
     "execution_count": 745,
     "metadata": {},
     "output_type": "execute_result"
    },
    {
     "data": {
      "image/png": "[encoded data removed]",
      "text/plain": [
       "<Figure size 640x480 with 1 Axes>"
      ]
     },
     "metadata": {},
     "output_type": "display_data"
    }
   ],
   "source": [
    "gain_f_tansho.rename('tansho').plot(legend=True)\n",
    "gain_f_fukusho.rename('fukusho').plot(legend=True)\n",
    "gain_t_tansho.rename('tansho_std').plot(legend=True)\n",
    "gain_t_fukusho.rename('fukusho_std').plot(legend=True)\n",
    "gain_t_exacta.rename('exacta_std').plot(legend=True)"
   ]
  },
  {
   "cell_type": "code",
   "execution_count": 746,
   "id": "02d6e59a-a065-4036-a037-c5172a2ba20e",
   "metadata": {},
   "outputs": [
    {
     "data": {
      "text/plain": [
       "1.042142857142857"
      ]
     },
     "execution_count": 746,
     "metadata": {},
     "output_type": "execute_result"
    }
   ],
   "source": [
    "# 回収率の最大値\n",
    "gain_t_tansho.max()"
   ]
  },
  {
   "cell_type": "markdown",
   "id": "254ea2f2-4d01-4b10-ba98-4970021cccd6",
   "metadata": {},
   "source": [
    "## 実験"
   ]
  },
  {
   "cell_type": "code",
   "execution_count": 799,
   "id": "ca95273c-1bf0-4a71-8f4c-22cb2fba756c",
   "metadata": {},
   "outputs": [
    {
     "name": "stdout",
     "output_type": "stream",
     "text": [
      "20230105OMR01 直前情報リクエスト済みなのでスキップ\n",
      "20230105OMR02 直前情報リクエスト済みなのでスキップ\n",
      "20230105OMR03 直前情報リクエスト済みなのでスキップ\n",
      "20230105OMR04 直前情報リクエスト済みなのでスキップ\n",
      "20230105OMR05 直前情報リクエスト済みなのでスキップ\n",
      "20230105OMR06 直前情報リクエスト済みなのでスキップ\n",
      "20230105OMR07 直前情報リクエスト済みなのでスキップ\n",
      "20230105OMR08 直前情報リクエスト済みなのでスキップ\n",
      "20230105OMR09 直前情報リクエスト済みなのでスキップ\n",
      "20230105OMR10 直前情報リクエスト済みなのでスキップ\n",
      "20230105OMR11 直前情報リクエスト済みなのでスキップ\n",
      "20230105OMR12 直前情報リクエスト済みなのでスキップ\n",
      "syusso_table:テスト成功\n"
     ]
    }
   ],
   "source": [
    "import syusso_table as sy\n",
    "import utils \n",
    "importlib.reload(sy)\n",
    "importlib.reload(utils)\n",
    "\n",
    "syusso = sy.SyussoTable(race_results, '20230105', 'OMR')\n",
    "syusso.test()"
   ]
  },
  {
   "cell_type": "code",
   "execution_count": 800,
   "id": "9009af38-85b2-44d0-a035-450de9a94642",
   "metadata": {},
   "outputs": [
    {
     "name": "stdout",
     "output_type": "stream",
     "text": [
      "レーサーの過去生成データテーブルの作成\n"
     ]
    },
    {
     "name": "stderr",
     "output_type": "stream",
     "text": [
      "100%|██████████████████████████████████████████████████████████████████████████████████| 43/43 [00:00<00:00, 69.25it/s]\n"
     ]
    },
    {
     "data": {
      "text/html": [
       "<div>\n",
       "<style scoped>\n",
       "    .dataframe tbody tr th:only-of-type {\n",
       "        vertical-align: middle;\n",
       "    }\n",
       "\n",
       "    .dataframe tbody tr th {\n",
       "        vertical-align: top;\n",
       "    }\n",
       "\n",
       "    .dataframe thead th {\n",
       "        text-align: right;\n",
       "    }\n",
       "</style>\n",
       "<table border=\"1\" class=\"dataframe\">\n",
       "  <thead>\n",
       "    <tr style=\"text-align: right;\">\n",
       "      <th></th>\n",
       "      <th>レースコード</th>\n",
       "      <th>艇番</th>\n",
       "      <th>全国_1着率_allR</th>\n",
       "      <th>全国_3着率_allR</th>\n",
       "      <th>全国_着順平均_allR</th>\n",
       "      <th>全国_スタートタイミング_allR</th>\n",
       "      <th>全国_展示タイム_allR</th>\n",
       "      <th>当地_1着率_allR</th>\n",
       "      <th>当地_3着率_allR</th>\n",
       "      <th>当地_着順平均_allR</th>\n",
       "      <th>...</th>\n",
       "      <th>当地_1着率_5R</th>\n",
       "      <th>当地_3着率_5R</th>\n",
       "      <th>当地_着順平均_5R</th>\n",
       "      <th>当地_スタートタイミング_5R</th>\n",
       "      <th>当地_展示タイム_5R</th>\n",
       "      <th>コース別_1着率_5R</th>\n",
       "      <th>コース別_3着率_5R</th>\n",
       "      <th>コース別_着順平均_5R</th>\n",
       "      <th>コース別_スタートタイミング_5R</th>\n",
       "      <th>コース別_展示タイム_5R</th>\n",
       "    </tr>\n",
       "  </thead>\n",
       "  <tbody>\n",
       "    <tr>\n",
       "      <th>0</th>\n",
       "      <td>20230105OMR01</td>\n",
       "      <td>1</td>\n",
       "      <td>0.138122</td>\n",
       "      <td>0.464088</td>\n",
       "      <td>3.417127</td>\n",
       "      <td>0.188483</td>\n",
       "      <td>6.819607</td>\n",
       "      <td>0.0</td>\n",
       "      <td>0.0</td>\n",
       "      <td>NaN</td>\n",
       "      <td>...</td>\n",
       "      <td>0.0</td>\n",
       "      <td>0.0</td>\n",
       "      <td>NaN</td>\n",
       "      <td>NaN</td>\n",
       "      <td>NaN</td>\n",
       "      <td>0.4</td>\n",
       "      <td>1.0</td>\n",
       "      <td>1.8</td>\n",
       "      <td>0.170</td>\n",
       "      <td>6.758</td>\n",
       "    </tr>\n",
       "    <tr>\n",
       "      <th>50</th>\n",
       "      <td>20230105OMR09</td>\n",
       "      <td>3</td>\n",
       "      <td>0.137741</td>\n",
       "      <td>0.465565</td>\n",
       "      <td>3.413223</td>\n",
       "      <td>0.188263</td>\n",
       "      <td>6.819916</td>\n",
       "      <td>0.0</td>\n",
       "      <td>0.0</td>\n",
       "      <td>NaN</td>\n",
       "      <td>...</td>\n",
       "      <td>0.0</td>\n",
       "      <td>0.0</td>\n",
       "      <td>NaN</td>\n",
       "      <td>NaN</td>\n",
       "      <td>NaN</td>\n",
       "      <td>0.0</td>\n",
       "      <td>0.8</td>\n",
       "      <td>2.6</td>\n",
       "      <td>0.226</td>\n",
       "      <td>6.846</td>\n",
       "    </tr>\n",
       "    <tr>\n",
       "      <th>1</th>\n",
       "      <td>20230105OMR01</td>\n",
       "      <td>2</td>\n",
       "      <td>0.076923</td>\n",
       "      <td>0.381538</td>\n",
       "      <td>3.778462</td>\n",
       "      <td>0.155556</td>\n",
       "      <td>6.829630</td>\n",
       "      <td>0.0</td>\n",
       "      <td>0.0</td>\n",
       "      <td>NaN</td>\n",
       "      <td>...</td>\n",
       "      <td>0.0</td>\n",
       "      <td>0.0</td>\n",
       "      <td>NaN</td>\n",
       "      <td>NaN</td>\n",
       "      <td>NaN</td>\n",
       "      <td>0.2</td>\n",
       "      <td>0.6</td>\n",
       "      <td>3.0</td>\n",
       "      <td>0.124</td>\n",
       "      <td>6.848</td>\n",
       "    </tr>\n",
       "    <tr>\n",
       "      <th>66</th>\n",
       "      <td>20230105OMR12</td>\n",
       "      <td>1</td>\n",
       "      <td>0.076687</td>\n",
       "      <td>0.380368</td>\n",
       "      <td>3.779141</td>\n",
       "      <td>0.155785</td>\n",
       "      <td>6.829846</td>\n",
       "      <td>0.0</td>\n",
       "      <td>0.0</td>\n",
       "      <td>NaN</td>\n",
       "      <td>...</td>\n",
       "      <td>0.0</td>\n",
       "      <td>0.0</td>\n",
       "      <td>NaN</td>\n",
       "      <td>NaN</td>\n",
       "      <td>NaN</td>\n",
       "      <td>0.2</td>\n",
       "      <td>0.8</td>\n",
       "      <td>2.4</td>\n",
       "      <td>0.186</td>\n",
       "      <td>6.818</td>\n",
       "    </tr>\n",
       "    <tr>\n",
       "      <th>2</th>\n",
       "      <td>20230105OMR01</td>\n",
       "      <td>3</td>\n",
       "      <td>0.248101</td>\n",
       "      <td>0.521519</td>\n",
       "      <td>3.288608</td>\n",
       "      <td>0.150128</td>\n",
       "      <td>6.873189</td>\n",
       "      <td>0.0</td>\n",
       "      <td>0.0</td>\n",
       "      <td>NaN</td>\n",
       "      <td>...</td>\n",
       "      <td>0.0</td>\n",
       "      <td>0.0</td>\n",
       "      <td>NaN</td>\n",
       "      <td>NaN</td>\n",
       "      <td>NaN</td>\n",
       "      <td>0.2</td>\n",
       "      <td>0.6</td>\n",
       "      <td>3.0</td>\n",
       "      <td>0.206</td>\n",
       "      <td>6.920</td>\n",
       "    </tr>\n",
       "    <tr>\n",
       "      <th>...</th>\n",
       "      <td>...</td>\n",
       "      <td>...</td>\n",
       "      <td>...</td>\n",
       "      <td>...</td>\n",
       "      <td>...</td>\n",
       "      <td>...</td>\n",
       "      <td>...</td>\n",
       "      <td>...</td>\n",
       "      <td>...</td>\n",
       "      <td>...</td>\n",
       "      <td>...</td>\n",
       "      <td>...</td>\n",
       "      <td>...</td>\n",
       "      <td>...</td>\n",
       "      <td>...</td>\n",
       "      <td>...</td>\n",
       "      <td>...</td>\n",
       "      <td>...</td>\n",
       "      <td>...</td>\n",
       "      <td>...</td>\n",
       "      <td>...</td>\n",
       "    </tr>\n",
       "    <tr>\n",
       "      <th>68</th>\n",
       "      <td>20230105OMR12</td>\n",
       "      <td>3</td>\n",
       "      <td>0.286972</td>\n",
       "      <td>0.702465</td>\n",
       "      <td>2.691901</td>\n",
       "      <td>0.152852</td>\n",
       "      <td>6.784683</td>\n",
       "      <td>0.0</td>\n",
       "      <td>0.0</td>\n",
       "      <td>NaN</td>\n",
       "      <td>...</td>\n",
       "      <td>0.0</td>\n",
       "      <td>0.0</td>\n",
       "      <td>NaN</td>\n",
       "      <td>NaN</td>\n",
       "      <td>NaN</td>\n",
       "      <td>0.6</td>\n",
       "      <td>1.0</td>\n",
       "      <td>1.8</td>\n",
       "      <td>0.174</td>\n",
       "      <td>6.806</td>\n",
       "    </tr>\n",
       "    <tr>\n",
       "      <th>46</th>\n",
       "      <td>20230105OMR08</td>\n",
       "      <td>5</td>\n",
       "      <td>0.139108</td>\n",
       "      <td>0.485564</td>\n",
       "      <td>3.425197</td>\n",
       "      <td>0.179474</td>\n",
       "      <td>6.799921</td>\n",
       "      <td>0.0</td>\n",
       "      <td>0.0</td>\n",
       "      <td>NaN</td>\n",
       "      <td>...</td>\n",
       "      <td>0.0</td>\n",
       "      <td>0.0</td>\n",
       "      <td>NaN</td>\n",
       "      <td>NaN</td>\n",
       "      <td>NaN</td>\n",
       "      <td>0.0</td>\n",
       "      <td>0.2</td>\n",
       "      <td>4.2</td>\n",
       "      <td>0.220</td>\n",
       "      <td>6.832</td>\n",
       "    </tr>\n",
       "    <tr>\n",
       "      <th>47</th>\n",
       "      <td>20230105OMR08</td>\n",
       "      <td>6</td>\n",
       "      <td>0.144165</td>\n",
       "      <td>0.443936</td>\n",
       "      <td>3.686499</td>\n",
       "      <td>0.131648</td>\n",
       "      <td>6.794371</td>\n",
       "      <td>0.0</td>\n",
       "      <td>0.0</td>\n",
       "      <td>NaN</td>\n",
       "      <td>...</td>\n",
       "      <td>0.0</td>\n",
       "      <td>0.0</td>\n",
       "      <td>NaN</td>\n",
       "      <td>NaN</td>\n",
       "      <td>NaN</td>\n",
       "      <td>0.0</td>\n",
       "      <td>0.4</td>\n",
       "      <td>4.4</td>\n",
       "      <td>0.128</td>\n",
       "      <td>6.740</td>\n",
       "    </tr>\n",
       "    <tr>\n",
       "      <th>53</th>\n",
       "      <td>20230105OMR09</td>\n",
       "      <td>6</td>\n",
       "      <td>0.171698</td>\n",
       "      <td>0.584906</td>\n",
       "      <td>3.232075</td>\n",
       "      <td>0.170586</td>\n",
       "      <td>6.821096</td>\n",
       "      <td>0.0</td>\n",
       "      <td>0.0</td>\n",
       "      <td>NaN</td>\n",
       "      <td>...</td>\n",
       "      <td>0.0</td>\n",
       "      <td>0.0</td>\n",
       "      <td>NaN</td>\n",
       "      <td>NaN</td>\n",
       "      <td>NaN</td>\n",
       "      <td>0.0</td>\n",
       "      <td>0.2</td>\n",
       "      <td>4.6</td>\n",
       "      <td>0.244</td>\n",
       "      <td>6.810</td>\n",
       "    </tr>\n",
       "    <tr>\n",
       "      <th>58</th>\n",
       "      <td>20230105OMR10</td>\n",
       "      <td>5</td>\n",
       "      <td>0.053719</td>\n",
       "      <td>0.322314</td>\n",
       "      <td>4.177686</td>\n",
       "      <td>0.198512</td>\n",
       "      <td>6.837025</td>\n",
       "      <td>0.0</td>\n",
       "      <td>0.0</td>\n",
       "      <td>NaN</td>\n",
       "      <td>...</td>\n",
       "      <td>0.0</td>\n",
       "      <td>0.0</td>\n",
       "      <td>NaN</td>\n",
       "      <td>NaN</td>\n",
       "      <td>NaN</td>\n",
       "      <td>0.2</td>\n",
       "      <td>0.4</td>\n",
       "      <td>4.0</td>\n",
       "      <td>0.188</td>\n",
       "      <td>6.844</td>\n",
       "    </tr>\n",
       "  </tbody>\n",
       "</table>\n",
       "<p>72 rows × 47 columns</p>\n",
       "</div>"
      ],
      "text/plain": [
       "           レースコード  艇番  全国_1着率_allR  全国_3着率_allR  全国_着順平均_allR  \\\n",
       "0   20230105OMR01   1     0.138122     0.464088      3.417127   \n",
       "50  20230105OMR09   3     0.137741     0.465565      3.413223   \n",
       "1   20230105OMR01   2     0.076923     0.381538      3.778462   \n",
       "66  20230105OMR12   1     0.076687     0.380368      3.779141   \n",
       "2   20230105OMR01   3     0.248101     0.521519      3.288608   \n",
       "..            ...  ..          ...          ...           ...   \n",
       "68  20230105OMR12   3     0.286972     0.702465      2.691901   \n",
       "46  20230105OMR08   5     0.139108     0.485564      3.425197   \n",
       "47  20230105OMR08   6     0.144165     0.443936      3.686499   \n",
       "53  20230105OMR09   6     0.171698     0.584906      3.232075   \n",
       "58  20230105OMR10   5     0.053719     0.322314      4.177686   \n",
       "\n",
       "    全国_スタートタイミング_allR  全国_展示タイム_allR  当地_1着率_allR  当地_3着率_allR  当地_着順平均_allR  \\\n",
       "0            0.188483       6.819607          0.0          0.0           NaN   \n",
       "50           0.188263       6.819916          0.0          0.0           NaN   \n",
       "1            0.155556       6.829630          0.0          0.0           NaN   \n",
       "66           0.155785       6.829846          0.0          0.0           NaN   \n",
       "2            0.150128       6.873189          0.0          0.0           NaN   \n",
       "..                ...            ...          ...          ...           ...   \n",
       "68           0.152852       6.784683          0.0          0.0           NaN   \n",
       "46           0.179474       6.799921          0.0          0.0           NaN   \n",
       "47           0.131648       6.794371          0.0          0.0           NaN   \n",
       "53           0.170586       6.821096          0.0          0.0           NaN   \n",
       "58           0.198512       6.837025          0.0          0.0           NaN   \n",
       "\n",
       "    ...  当地_1着率_5R  当地_3着率_5R  当地_着順平均_5R  当地_スタートタイミング_5R  当地_展示タイム_5R  \\\n",
       "0   ...        0.0        0.0         NaN              NaN          NaN   \n",
       "50  ...        0.0        0.0         NaN              NaN          NaN   \n",
       "1   ...        0.0        0.0         NaN              NaN          NaN   \n",
       "66  ...        0.0        0.0         NaN              NaN          NaN   \n",
       "2   ...        0.0        0.0         NaN              NaN          NaN   \n",
       "..  ...        ...        ...         ...              ...          ...   \n",
       "68  ...        0.0        0.0         NaN              NaN          NaN   \n",
       "46  ...        0.0        0.0         NaN              NaN          NaN   \n",
       "47  ...        0.0        0.0         NaN              NaN          NaN   \n",
       "53  ...        0.0        0.0         NaN              NaN          NaN   \n",
       "58  ...        0.0        0.0         NaN              NaN          NaN   \n",
       "\n",
       "    コース別_1着率_5R  コース別_3着率_5R  コース別_着順平均_5R  コース別_スタートタイミング_5R  コース別_展示タイム_5R  \n",
       "0           0.4          1.0           1.8              0.170          6.758  \n",
       "50          0.0          0.8           2.6              0.226          6.846  \n",
       "1           0.2          0.6           3.0              0.124          6.848  \n",
       "66          0.2          0.8           2.4              0.186          6.818  \n",
       "2           0.2          0.6           3.0              0.206          6.920  \n",
       "..          ...          ...           ...                ...            ...  \n",
       "68          0.6          1.0           1.8              0.174          6.806  \n",
       "46          0.0          0.2           4.2              0.220          6.832  \n",
       "47          0.0          0.4           4.4              0.128          6.740  \n",
       "53          0.0          0.2           4.6              0.244          6.810  \n",
       "58          0.2          0.4           4.0              0.188          6.844  \n",
       "\n",
       "[72 rows x 47 columns]"
      ]
     },
     "execution_count": 800,
     "metadata": {},
     "output_type": "execute_result"
    }
   ],
   "source": [
    "# レーサーの過去テーブル作成テスト用(出走テーブルのデータをもとに作るのが処理時間が短くて確認しやすい\n",
    "import racer_table as racer_t\n",
    "importlib.reload(racer_t)\n",
    "\n",
    "# hoge = racer_t.RacerTable.create_from_syusso(data_tables.race_t, syusso.data)\n",
    "hoge = racer_t.RacerTable.create_from_syusso(syusso.race_results.data, syusso.data)\n",
    "hoge.data_p"
   ]
  },
  {
   "cell_type": "code",
   "execution_count": null,
   "id": "0eb575eb-f145-43a5-9d14-5f51f8f7aff6",
   "metadata": {},
   "outputs": [],
   "source": []
  }
 ],
 "metadata": {
  "kernelspec": {
   "display_name": "Python 3 (ipykernel)",
   "language": "python",
   "name": "python3"
  },
  "language_info": {
   "codemirror_mode": {
    "name": "ipython",
    "version": 3
   },
   "file_extension": ".py",
   "mimetype": "text/x-python",
   "name": "python",
   "nbconvert_exporter": "python",
   "pygments_lexer": "ipython3",
   "version": "3.10.5"
  },
  "toc-autonumbering": true
 },
 "nbformat": 4,
 "nbformat_minor": 5
}
